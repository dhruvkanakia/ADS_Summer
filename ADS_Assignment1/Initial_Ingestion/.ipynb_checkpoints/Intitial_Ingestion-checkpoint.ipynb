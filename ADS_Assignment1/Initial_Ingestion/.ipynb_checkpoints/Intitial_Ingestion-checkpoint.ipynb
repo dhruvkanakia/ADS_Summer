{
 "cells": [
  {
   "cell_type": "code",
   "execution_count": 1,
   "metadata": {
    "collapsed": false
   },
   "outputs": [],
   "source": [
    "import os\n",
    "import requests\n",
    "from pprint import pprint\n",
    "import json\n",
    "from datetime import datetime,time, timedelta\n",
    "import glob\n",
    "import time\n",
    "import pandas as pd\n",
    "import logging\n",
    "import urllib.request\n",
    "import logging\n",
    "import logging.handlers\n",
    "import boto3\n",
    "import botocore\n",
    "import botocore.session\n"
   ]
  },
  {
   "cell_type": "code",
   "execution_count": null,
   "metadata": {
    "collapsed": true
   },
   "outputs": [],
   "source": []
  },
  {
   "cell_type": "code",
   "execution_count": 2,
   "metadata": {
    "collapsed": false
   },
   "outputs": [
    {
     "name": "stdout",
     "output_type": "stream",
     "text": [
      "2017-06-24_22_27_06.log\n"
     ]
    }
   ],
   "source": [
    "import logging\n",
    "import logging.handlers\n",
    "\n",
    "logger=logging.getLogger(__name__)\n",
    "logger.setLevel(logging.INFO)\n",
    "\n",
    "logfile1 = time.strftime(\"%Y-%m-%d_%H_%M_%S\"+\".log\")\n",
    "print (logfile1)\n",
    "handler= logging.FileHandler(logfile1)\n",
    "handler.setLevel(logging.INFO)\n",
    "\n",
    "formatter= logging.Formatter('%(asctime)s - %(name)s - %(levelname)s - %(message)s')\n",
    "handler.setFormatter(formatter)\n",
    "logger.addHandler(handler)\n",
    "logger.info('hello ')\n",
    "\n"
   ]
  },
  {
   "cell_type": "code",
   "execution_count": null,
   "metadata": {
    "collapsed": true
   },
   "outputs": [],
   "source": []
  },
  {
   "cell_type": "code",
   "execution_count": 3,
   "metadata": {
    "collapsed": false
   },
   "outputs": [],
   "source": [
    "logger.info('Reading Json')\n",
    "with open('intial_config.json') as data_file:    \n",
    "    data = json.load(data_file)\n",
    "\n",
    "# print(data)"
   ]
  },
  {
   "cell_type": "code",
   "execution_count": 4,
   "metadata": {
    "collapsed": false
   },
   "outputs": [
    {
     "data": {
      "text/plain": [
       "['https://www.ncei.noaa.gov/orders/cdo/994480.csv',\n",
       " 'https://www.ncei.noaa.gov/orders/cdo/994498.csv',\n",
       " 'https://www.ncei.noaa.gov/orders/cdo/994488.csv',\n",
       " 'https://www.ncei.noaa.gov/orders/cdo/994499.csv',\n",
       " 'https://www.ncei.noaa.gov/orders/cdo/994501.csv',\n",
       " 'https://www.ncei.noaa.gov/orders/cdo/994504.csv',\n",
       " 'https://www.ncei.noaa.gov/orders/cdo/994506.csv',\n",
       " 'https://www.ncei.noaa.gov/orders/cdo/994508.csv']"
      ]
     },
     "execution_count": 4,
     "metadata": {},
     "output_type": "execute_result"
    }
   ],
   "source": [
    "links=[]\n",
    "for values in (data['link1'],data['link2'],data['link3'],data['link4'],data['link5'],data['link6'],data['link7'],data['link8']):\n",
    "               links.append(values)\n",
    "links"
   ]
  },
  {
   "cell_type": "code",
   "execution_count": 5,
   "metadata": {
    "collapsed": false,
    "scrolled": true
   },
   "outputs": [],
   "source": [
    "# path=os.getcwd()\n",
    "# #os.mkdir('Data1')\n",
    "# final_path= path+'/'+'Data1/'"
   ]
  },
  {
   "cell_type": "code",
   "execution_count": 6,
   "metadata": {
    "collapsed": false
   },
   "outputs": [],
   "source": [
    "# final_path"
   ]
  },
  {
   "cell_type": "code",
   "execution_count": 7,
   "metadata": {
    "collapsed": false,
    "scrolled": true
   },
   "outputs": [
    {
     "name": "stderr",
     "output_type": "stream",
     "text": [
      "C:\\Users\\dhruv\\Anaconda3\\lib\\site-packages\\IPython\\core\\interactiveshell.py:2717: DtypeWarning: Columns (14,15,20,23) have mixed types. Specify dtype option on import or set low_memory=False.\n",
      "  interactivity=interactivity, compiler=compiler, result=result)\n",
      "C:\\Users\\dhruv\\Anaconda3\\lib\\site-packages\\IPython\\core\\interactiveshell.py:2717: DtypeWarning: Columns (10,11,14,15) have mixed types. Specify dtype option on import or set low_memory=False.\n",
      "  interactivity=interactivity, compiler=compiler, result=result)\n",
      "C:\\Users\\dhruv\\Anaconda3\\lib\\site-packages\\IPython\\core\\interactiveshell.py:2717: DtypeWarning: Columns (10,11,20,23) have mixed types. Specify dtype option on import or set low_memory=False.\n",
      "  interactivity=interactivity, compiler=compiler, result=result)\n",
      "C:\\Users\\dhruv\\Anaconda3\\lib\\site-packages\\IPython\\core\\interactiveshell.py:2717: DtypeWarning: Columns (8,10,11,14,15,20,22,23,25,38) have mixed types. Specify dtype option on import or set low_memory=False.\n",
      "  interactivity=interactivity, compiler=compiler, result=result)\n",
      "C:\\Users\\dhruv\\Anaconda3\\lib\\site-packages\\IPython\\core\\interactiveshell.py:2717: DtypeWarning: Columns (8,10,11,14,15,20,23,24,25,38) have mixed types. Specify dtype option on import or set low_memory=False.\n",
      "  interactivity=interactivity, compiler=compiler, result=result)\n",
      "C:\\Users\\dhruv\\Anaconda3\\lib\\site-packages\\IPython\\core\\interactiveshell.py:2717: DtypeWarning: Columns (10,11,18,20,22,23,24,25,38) have mixed types. Specify dtype option on import or set low_memory=False.\n",
      "  interactivity=interactivity, compiler=compiler, result=result)\n",
      "C:\\Users\\dhruv\\Anaconda3\\lib\\site-packages\\IPython\\core\\interactiveshell.py:2717: DtypeWarning: Columns (8,10,11,14,15,20,22,23,25,37,38,44,45,63,64,84,85,86,87) have mixed types. Specify dtype option on import or set low_memory=False.\n",
      "  interactivity=interactivity, compiler=compiler, result=result)\n",
      "C:\\Users\\dhruv\\Anaconda3\\lib\\site-packages\\IPython\\core\\interactiveshell.py:2717: DtypeWarning: Columns (8,10,11,23,64,84,85,86,87) have mixed types. Specify dtype option on import or set low_memory=False.\n",
      "  interactivity=interactivity, compiler=compiler, result=result)\n"
     ]
    }
   ],
   "source": [
    "import io\n",
    "df_list= []\n",
    "\n",
    "for x in links:\n",
    "\n",
    "    s=requests.get(x).content\n",
    "    c=pd.read_csv(io.StringIO(s.decode('utf-8')))\n",
    "    df_list.append(c)\n",
    "full_df=pd.concat(df_list)\n"
   ]
  },
  {
   "cell_type": "code",
   "execution_count": 8,
   "metadata": {
    "collapsed": false
   },
   "outputs": [],
   "source": [
    "# full_df.to_csv(os.path.join(final_path,'CA_140617_23155.csv'))"
   ]
  },
  {
   "cell_type": "code",
   "execution_count": 9,
   "metadata": {
    "collapsed": false
   },
   "outputs": [],
   "source": [
    "full_df.to_csv(('CA_2017-06-14_23155.csv'))"
   ]
  },
  {
   "cell_type": "code",
   "execution_count": 10,
   "metadata": {
    "collapsed": false
   },
   "outputs": [
    {
     "data": {
      "text/html": [
       "<div>\n",
       "<table border=\"1\" class=\"dataframe\">\n",
       "  <thead>\n",
       "    <tr style=\"text-align: right;\">\n",
       "      <th></th>\n",
       "      <th>STATION</th>\n",
       "      <th>STATION_NAME</th>\n",
       "      <th>ELEVATION</th>\n",
       "      <th>LATITUDE</th>\n",
       "      <th>LONGITUDE</th>\n",
       "      <th>DATE</th>\n",
       "      <th>REPORTTPYE</th>\n",
       "      <th>HOURLYSKYCONDITIONS</th>\n",
       "      <th>HOURLYVISIBILITY</th>\n",
       "      <th>HOURLYPRSENTWEATHERTYPE</th>\n",
       "      <th>...</th>\n",
       "      <th>MonthlyMaxSeaLevelPressureTime</th>\n",
       "      <th>MonthlyMinSeaLevelPressureValue</th>\n",
       "      <th>MonthlyMinSeaLevelPressureDate</th>\n",
       "      <th>MonthlyMinSeaLevelPressureTime</th>\n",
       "      <th>MonthlyTotalHeatingDegreeDays</th>\n",
       "      <th>MonthlyTotalCoolingDegreeDays</th>\n",
       "      <th>MonthlyDeptFromNormalHeatingDD</th>\n",
       "      <th>MonthlyDeptFromNormalCoolingDD</th>\n",
       "      <th>MonthlyTotalSeasonToDateHeatingDD</th>\n",
       "      <th>MonthlyTotalSeasonToDateCoolingDD</th>\n",
       "    </tr>\n",
       "  </thead>\n",
       "  <tbody>\n",
       "    <tr>\n",
       "      <th>0</th>\n",
       "      <td>WBAN:23155</td>\n",
       "      <td>BAKERSFIELD AIRPORT CA US</td>\n",
       "      <td>149</td>\n",
       "      <td>35.4344</td>\n",
       "      <td>-119.0542</td>\n",
       "      <td>1941-10-01 04:00</td>\n",
       "      <td>SAO</td>\n",
       "      <td>NaN</td>\n",
       "      <td>99.42</td>\n",
       "      <td>NaN</td>\n",
       "      <td>...</td>\n",
       "      <td>-9999</td>\n",
       "      <td>NaN</td>\n",
       "      <td>-9999</td>\n",
       "      <td>-9999</td>\n",
       "      <td>NaN</td>\n",
       "      <td>NaN</td>\n",
       "      <td>NaN</td>\n",
       "      <td>NaN</td>\n",
       "      <td>NaN</td>\n",
       "      <td>NaN</td>\n",
       "    </tr>\n",
       "    <tr>\n",
       "      <th>1</th>\n",
       "      <td>WBAN:23155</td>\n",
       "      <td>BAKERSFIELD AIRPORT CA US</td>\n",
       "      <td>149</td>\n",
       "      <td>35.4344</td>\n",
       "      <td>-119.0542</td>\n",
       "      <td>1941-10-01 05:00</td>\n",
       "      <td>SAO</td>\n",
       "      <td>NaN</td>\n",
       "      <td>99.42</td>\n",
       "      <td>NaN</td>\n",
       "      <td>...</td>\n",
       "      <td>-9999</td>\n",
       "      <td>NaN</td>\n",
       "      <td>-9999</td>\n",
       "      <td>-9999</td>\n",
       "      <td>NaN</td>\n",
       "      <td>NaN</td>\n",
       "      <td>NaN</td>\n",
       "      <td>NaN</td>\n",
       "      <td>NaN</td>\n",
       "      <td>NaN</td>\n",
       "    </tr>\n",
       "  </tbody>\n",
       "</table>\n",
       "<p>2 rows × 90 columns</p>\n",
       "</div>"
      ],
      "text/plain": [
       "      STATION               STATION_NAME  ELEVATION  LATITUDE  LONGITUDE  \\\n",
       "0  WBAN:23155  BAKERSFIELD AIRPORT CA US        149   35.4344  -119.0542   \n",
       "1  WBAN:23155  BAKERSFIELD AIRPORT CA US        149   35.4344  -119.0542   \n",
       "\n",
       "               DATE REPORTTPYE HOURLYSKYCONDITIONS HOURLYVISIBILITY  \\\n",
       "0  1941-10-01 04:00        SAO                 NaN            99.42   \n",
       "1  1941-10-01 05:00        SAO                 NaN            99.42   \n",
       "\n",
       "  HOURLYPRSENTWEATHERTYPE                ...                  \\\n",
       "0                     NaN                ...                   \n",
       "1                     NaN                ...                   \n",
       "\n",
       "  MonthlyMaxSeaLevelPressureTime MonthlyMinSeaLevelPressureValue  \\\n",
       "0                          -9999                             NaN   \n",
       "1                          -9999                             NaN   \n",
       "\n",
       "   MonthlyMinSeaLevelPressureDate  MonthlyMinSeaLevelPressureTime  \\\n",
       "0                           -9999                           -9999   \n",
       "1                           -9999                           -9999   \n",
       "\n",
       "  MonthlyTotalHeatingDegreeDays MonthlyTotalCoolingDegreeDays  \\\n",
       "0                           NaN                           NaN   \n",
       "1                           NaN                           NaN   \n",
       "\n",
       "   MonthlyDeptFromNormalHeatingDD  MonthlyDeptFromNormalCoolingDD  \\\n",
       "0                             NaN                             NaN   \n",
       "1                             NaN                             NaN   \n",
       "\n",
       "  MonthlyTotalSeasonToDateHeatingDD  MonthlyTotalSeasonToDateCoolingDD  \n",
       "0                               NaN                                NaN  \n",
       "1                               NaN                                NaN  \n",
       "\n",
       "[2 rows x 90 columns]"
      ]
     },
     "execution_count": 10,
     "metadata": {},
     "output_type": "execute_result"
    }
   ],
   "source": [
    "full_df.head(2)"
   ]
  },
  {
   "cell_type": "code",
   "execution_count": null,
   "metadata": {
    "collapsed": true
   },
   "outputs": [],
   "source": [
    "\n",
    "        \n",
    "        "
   ]
  },
  {
   "cell_type": "code",
   "execution_count": 17,
   "metadata": {
    "collapsed": false
   },
   "outputs": [],
   "source": [
    "import boto3\n",
    "s3 = boto3.resource(\n",
    "    's3',\n",
    "    aws_access_key_id=data[\"AWSAccess\"],\n",
    "    aws_secret_access_key=data[\"AWSSecret\"])\n",
    "\n",
    "client= boto3.client('s3', \n",
    "                     aws_access_key_id=data[\"AWSAccess\"],\n",
    "                    aws_secret_access_key=data[\"AWSSecret\"])"
   ]
  },
  {
   "cell_type": "code",
   "execution_count": 18,
   "metadata": {
    "collapsed": false
   },
   "outputs": [],
   "source": [
    "# s3.create_bucket(Bucket='adsassign1_databucket')"
   ]
  },
  {
   "cell_type": "code",
   "execution_count": 19,
   "metadata": {
    "collapsed": false
   },
   "outputs": [],
   "source": [
    "names=[]\n",
    "response = client.list_buckets()\n",
    "for bucket in response[\"Buckets\"]:\n",
    "    names.append(bucket)\n",
    "\n",
    "Bucketname= 'adsassign1_databucket'\n",
    "if Bucketname in names:\n",
    "    print('it exists')\n",
    "else:\n",
    "    s3.create_bucket(Bucket=Bucketname)   "
   ]
  },
  {
   "cell_type": "code",
   "execution_count": 20,
   "metadata": {
    "collapsed": false
   },
   "outputs": [
    {
     "name": "stdout",
     "output_type": "stream",
     "text": [
      "CA_2017-06-14_23155.csv\n"
     ]
    }
   ],
   "source": [
    "uploadFileNames = []\n",
    "\n",
    "for filename in glob.glob(\"*.csv\"):\n",
    "    uploadFileNames.append(filename)\n",
    "    print(filename)\n"
   ]
  },
  {
   "cell_type": "code",
   "execution_count": 21,
   "metadata": {
    "collapsed": false
   },
   "outputs": [
    {
     "name": "stdout",
     "output_type": "stream",
     "text": [
      "CA_2017-06-14_23155.csv exists\n"
     ]
    }
   ],
   "source": [
    "import botocore.session\n",
    "for files in uploadFileNames:\n",
    "    try:\n",
    "        s3.Object('adsassign1_databucket', files).load()\n",
    "    except botocore.exceptions.ClientError as e:\n",
    "        if e.response['Error']['Code'] == \"404\":\n",
    "            s3.Object(\"adsassign1_databucket\", files).put(Body=open(files, 'rb'))\n",
    "            print(files+' uploaded')\n",
    "            \n",
    "        else:\n",
    "            raise\n",
    "    else:\n",
    "        exists = True\n",
    "\n",
    "    print(files+''+' exists')\n",
    "        "
   ]
  },
  {
   "cell_type": "code",
   "execution_count": null,
   "metadata": {
    "collapsed": true
   },
   "outputs": [],
   "source": []
  },
  {
   "cell_type": "code",
   "execution_count": null,
   "metadata": {
    "collapsed": false
   },
   "outputs": [],
   "source": []
  },
  {
   "cell_type": "code",
   "execution_count": null,
   "metadata": {
    "collapsed": true
   },
   "outputs": [],
   "source": []
  }
 ],
 "metadata": {
  "anaconda-cloud": {},
  "kernelspec": {
   "display_name": "Python [conda root]",
   "language": "python",
   "name": "conda-root-py"
  },
  "language_info": {
   "codemirror_mode": {
    "name": "ipython",
    "version": 3
   },
   "file_extension": ".py",
   "mimetype": "text/x-python",
   "name": "python",
   "nbconvert_exporter": "python",
   "pygments_lexer": "ipython3",
   "version": "3.5.2"
  }
 },
 "nbformat": 4,
 "nbformat_minor": 1
}
