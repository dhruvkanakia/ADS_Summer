{
 "cells": [
  {
   "cell_type": "code",
   "execution_count": 1,
   "metadata": {
    "collapsed": true
   },
   "outputs": [],
   "source": [
    "import matplotlib.pyplot as plt\n",
    "import datetime as dt\n",
    "import numpy as np\n",
    "import pandas as pd\n",
    "import datetime as dt\n",
    "import numpy as np\n",
    "import pandas as pd\n",
    "import json\n",
    "import glob"
   ]
  },
  {
   "cell_type": "code",
   "execution_count": 4,
   "metadata": {
    "collapsed": false
   },
   "outputs": [],
   "source": [
    "with open('wrangle_config.json') as data_file:    \n",
    "    data = json.load(data_file)\n",
    "\n"
   ]
  },
  {
   "cell_type": "code",
   "execution_count": 5,
   "metadata": {
    "collapsed": true
   },
   "outputs": [],
   "source": [
    "import time\n",
    "Date= time.strftime('%Y-%m-%d')"
   ]
  },
  {
   "cell_type": "code",
   "execution_count": 6,
   "metadata": {
    "collapsed": true
   },
   "outputs": [],
   "source": [
    "file=data['state']+'_'+ Date+'_'+ '23155_'+ 'clean' + '.csv'"
   ]
  },
  {
   "cell_type": "code",
   "execution_count": 7,
   "metadata": {
    "collapsed": false
   },
   "outputs": [
    {
     "data": {
      "text/plain": [
       "'CA_2017-06-24_23155_clean.csv'"
      ]
     },
     "execution_count": 7,
     "metadata": {},
     "output_type": "execute_result"
    }
   ],
   "source": [
    "file"
   ]
  },
  {
   "cell_type": "code",
   "execution_count": 8,
   "metadata": {
    "collapsed": false,
    "scrolled": true
   },
   "outputs": [
    {
     "name": "stderr",
     "output_type": "stream",
     "text": [
      "C:\\Users\\dhruv\\Anaconda3\\lib\\site-packages\\IPython\\core\\interactiveshell.py:2717: DtypeWarning: Columns (13,14,21,24,25,26,27,28,30,31,35,36,37,40,57,58,61,80,81,82,87,92) have mixed types. Specify dtype option on import or set low_memory=False.\n",
      "  interactivity=interactivity, compiler=compiler, result=result)\n"
     ]
    }
   ],
   "source": [
    "import io\n",
    "import boto3\n",
    "s3 = boto3.resource(\n",
    "    's3',\n",
    "    aws_access_key_id=data[\"AWSAccess\"],\n",
    "    aws_secret_access_key=data[\"AWSSecret\"])\n",
    "bucket= s3.Bucket('adsassign1_databucket')\n",
    "client= boto3.client('s3', \n",
    "                     aws_access_key_id=data[\"AWSAccess\"],\n",
    "                    aws_secret_access_key=data[\"AWSSecret\"])\n",
    "b= list(bucket.objects.all())\n",
    "l=[(k, k.last_modified) for k in b]\n",
    "l1= [k for k, v in sorted(l, key= lambda p: p[1], reverse=True)]\n",
    "#key_to_download=l1[0].key\n",
    "a=l1[0].key\n",
    "obj = client.get_object(Bucket='adsassign1_databucket', Key=a)\n",
    "df = pd.read_csv(obj['Body'])"
   ]
  },
  {
   "cell_type": "code",
   "execution_count": null,
   "metadata": {
    "collapsed": true
   },
   "outputs": [],
   "source": []
  },
  {
   "cell_type": "code",
   "execution_count": null,
   "metadata": {
    "collapsed": true
   },
   "outputs": [],
   "source": []
  },
  {
   "cell_type": "code",
   "execution_count": null,
   "metadata": {
    "collapsed": true
   },
   "outputs": [],
   "source": []
  },
  {
   "cell_type": "code",
   "execution_count": null,
   "metadata": {
    "collapsed": true
   },
   "outputs": [],
   "source": []
  },
  {
   "cell_type": "code",
   "execution_count": 9,
   "metadata": {
    "collapsed": false
   },
   "outputs": [],
   "source": [
    "import pandas as pd\n",
    "df['DATE']=pd.to_datetime(df['DATE'])\n"
   ]
  },
  {
   "cell_type": "code",
   "execution_count": 10,
   "metadata": {
    "collapsed": true
   },
   "outputs": [],
   "source": [
    "import datetime as dt\n",
    "df['MONTH'] = pd.to_datetime(df['DATE']).dt.month\n",
    "df['YEAR']  =   pd.to_datetime(df['DATE']).dt.year\n",
    "# df[['MONTH','YEAR']]\n",
    "\n",
    "\n"
   ]
  },
  {
   "cell_type": "code",
   "execution_count": 11,
   "metadata": {
    "collapsed": false
   },
   "outputs": [],
   "source": [
    "df[\"HOURLYVISIBILITY\"]=df[\"HOURLYVISIBILITY\"].str.replace('s','')\n",
    "df[\"HOURLYVISIBILITY\"]=df[\"HOURLYVISIBILITY\"].str.replace('V','')\n",
    "df[\"HOURLYVISIBILITY\"]=df[\"HOURLYVISIBILITY\"].fillna(0)\n",
    "df[\"HOURLYVISIBILITY\"]=df[\"HOURLYVISIBILITY\"].astype(float)\n",
    "df[\"HOURLYVISIBILITY\"]=df[\"HOURLYVISIBILITY\"].astype(float)\n",
    "mean_station_pressure =df[\"HOURLYVISIBILITY\"].mean(skipna=True)\n",
    "df[\"HOURLYVISIBILITY\"]=df.HOURLYVISIBILITY.mask(df.HOURLYVISIBILITY == 0,mean_station_pressure)\n",
    "\n",
    "\n",
    "\n",
    "\n",
    "df[\"HOURLYStationPressure\"]=df[\"HOURLYStationPressure\"].str.replace('s','')\n",
    "df[\"HOURLYStationPressure\"]=df[\"HOURLYStationPressure\"].str.replace('V','')\n",
    "df[\"HOURLYStationPressure\"]=df[\"HOURLYStationPressure\"].fillna(0)\n",
    "df[\"HOURLYStationPressure\"]=df[\"HOURLYStationPressure\"].astype(float)\n",
    "df[\"HOURLYStationPressure\"]=df[\"HOURLYStationPressure\"].astype(float)\n",
    "mean_station_pressure =df[\"HOURLYStationPressure\"].mean(skipna=True)\n",
    "df[\"HOURLYStationPressure\"]=df.HOURLYStationPressure.mask(df.HOURLYStationPressure == 0,mean_station_pressure)\n",
    "\n",
    "df[\"DAILYPeakWindSpeed\"]=df[\"DAILYPeakWindSpeed\"].str.replace('s','')\n",
    "df[\"DAILYPeakWindSpeed\"]=df[\"DAILYPeakWindSpeed\"].str.replace('V','')\n",
    "df[\"DAILYPeakWindSpeed\"]=df[\"DAILYPeakWindSpeed\"].fillna(0)\n",
    "df[\"DAILYPeakWindSpeed\"]=df[\"DAILYPeakWindSpeed\"].astype(float)\n",
    "df[\"DAILYPeakWindSpeed\"]=df[\"DAILYPeakWindSpeed\"].astype(float)\n",
    "mean_station_pressure =df[\"DAILYPeakWindSpeed\"].mean(skipna=True)\n",
    "df[\"DAILYPeakWindSpeed\"]=df.DAILYPeakWindSpeed.mask(df.DAILYPeakWindSpeed == 0,mean_station_pressure)\n",
    "\n",
    "\n",
    "df[\"HOURLYDewPointTempC\"]=df[\"HOURLYDewPointTempC\"].str.replace('s','')\n",
    "df[\"HOURLYDewPointTempC\"]=df[\"HOURLYDewPointTempC\"].str.replace('V','')\n",
    "df[\"HOURLYDewPointTempC\"]=df[\"HOURLYDewPointTempC\"].fillna(0)\n",
    "df[\"HOURLYDewPointTempC\"]=df[\"HOURLYDewPointTempC\"].astype(float)\n",
    "df[\"HOURLYDewPointTempC\"]=df[\"HOURLYDewPointTempC\"].astype(float)\n",
    "mean_station_pressure =df[\"HOURLYDewPointTempC\"].mean(skipna=True)\n",
    "df[\"HOURLYDewPointTempC\"]=df.HOURLYDewPointTempC.mask(df.HOURLYDewPointTempC == 0,mean_station_pressure)\n",
    "\n",
    "\n",
    "\n",
    "df[\"MonthlyTotalHeatingDegreeDays\"]=df[\"MonthlyTotalHeatingDegreeDays\"].str.replace('s','')\n",
    "df[\"MonthlyTotalHeatingDegreeDays\"]=df[\"MonthlyTotalHeatingDegreeDays\"].str.replace('V','')\n",
    "df[\"MonthlyTotalHeatingDegreeDays\"]=df[\"MonthlyTotalHeatingDegreeDays\"].fillna(0)\n",
    "df[\"MonthlyTotalHeatingDegreeDays\"]=df[\"MonthlyTotalHeatingDegreeDays\"].astype(float)\n",
    "df[\"MonthlyTotalHeatingDegreeDays\"]=df[\"MonthlyTotalHeatingDegreeDays\"].astype(float)\n",
    "mean_station_pressure =df[\"MonthlyTotalHeatingDegreeDays\"].mean(skipna=True)\n",
    "df[\"MonthlyTotalHeatingDegreeDays\"]=df.MonthlyTotalHeatingDegreeDays.mask(df.MonthlyTotalHeatingDegreeDays == 0,mean_station_pressure)\n",
    "\n",
    "\n",
    "df[\"MonthlyTotalCoolingDegreeDays\"]=df[\"MonthlyTotalCoolingDegreeDays\"].str.replace('s','')\n",
    "df[\"MonthlyTotalCoolingDegreeDays\"]=df[\"MonthlyTotalCoolingDegreeDays\"].str.replace('V','')\n",
    "df[\"MonthlyTotalCoolingDegreeDays\"]=df[\"MonthlyTotalCoolingDegreeDays\"].fillna(0)\n",
    "df[\"MonthlyTotalCoolingDegreeDays\"]=df[\"MonthlyTotalCoolingDegreeDays\"].astype(float)\n",
    "df[\"MonthlyTotalCoolingDegreeDays\"]=df[\"MonthlyTotalCoolingDegreeDays\"].astype(float)\n",
    "mean_station_pressure =df[\"MonthlyTotalCoolingDegreeDays\"].mean(skipna=True)\n",
    "df[\"MonthlyTotalCoolingDegreeDays\"]=df.MonthlyTotalCoolingDegreeDays.mask(df.MonthlyTotalCoolingDegreeDays == 0,mean_station_pressure)\n",
    "\n",
    "\n",
    "\n",
    "\n"
   ]
  },
  {
   "cell_type": "code",
   "execution_count": 12,
   "metadata": {
    "collapsed": false
   },
   "outputs": [],
   "source": [
    "df1= df[['DATE','DAILYAverageDewPointTemp','DAILYAverageDryBulbTemp','DAILYAverageRelativeHumidity','DAILYAverageSeaLevelPressure',\n",
    "         'DAILYAverageStationPressure','DAILYAverageWetBulbTemp','DAILYAverageWindSpeed','DAILYCoolingDegreeDays','DAILYDeptFromNormalAverageTemp','DAILYHeatingDegreeDays',\n",
    "         'DAILYMaximumDryBulbTemp','DAILYMinimumDryBulbTemp',\n",
    "'DAILYPeakWindSpeed',\n",
    "\n",
    "'HOURLYAltimeterSetting','HOURLYDRYBULBTEMPC','HOURLYDRYBULBTEMPF','HOURLYDewPointTempC','HOURLYDewPointTempF',\n",
    "'HOURLYPrecip','HOURLYPressureChange','HOURLYPressureTendency','HOURLYRelativeHumidity',\n",
    "'HOURLYSeaLevelPressure','HOURLYStationPressure','HOURLYVISIBILITY','HOURLYWETBULBTEMPC','HOURLYWETBULBTEMPF','HOURLYWindDirection','MonthlyMaximumTemp','MonthlyMinimumTemp',\n",
    "        'MonthlyMeanTemp','MonthlyStationPressure','MonthlySeaLevelPressure','MonthlyDeptFromNormalMaximumTemp','MonthlyDeptFromNormalMinimumTemp',\n",
    "        'MonthlyDeptFromNormalAverageTemp','MonthlyDeptFromNormalPrecip','MonthlyDeptFromNormalPrecip','MonthlyTotalLiquidPrecip',\n",
    "        'MonthlyDaysWithGT90Temp','MonthlyDaysWithGT32Temp','MonthlyTotalHeatingDegreeDays','MonthlyTotalCoolingDegreeDays','MonthlyDeptFromNormalHeatingDD',\n",
    "        'MonthlyDeptFromNormalCoolingDD','MonthlyTotalSeasonToDateCoolingDD']]"
   ]
  },
  {
   "cell_type": "code",
   "execution_count": 13,
   "metadata": {
    "collapsed": true
   },
   "outputs": [],
   "source": [
    "df1.to_csv(file)"
   ]
  },
  {
   "cell_type": "code",
   "execution_count": 14,
   "metadata": {
    "collapsed": true
   },
   "outputs": [],
   "source": [
    "import boto3\n",
    "s3 = boto3.resource(\n",
    "    's3',\n",
    "    aws_access_key_id=data[\"AWSAccess\"],\n",
    "    aws_secret_access_key=data[\"AWSSecret\"])"
   ]
  },
  {
   "cell_type": "code",
   "execution_count": 15,
   "metadata": {
    "collapsed": false,
    "scrolled": true
   },
   "outputs": [
    {
     "name": "stdout",
     "output_type": "stream",
     "text": [
      "CA_2017-06-24_23155_clean.csv\n"
     ]
    }
   ],
   "source": [
    "uploadFileNames = []\n",
    "\n",
    "for filename in glob.glob(\"*.csv\"):\n",
    "    uploadFileNames.append(filename)\n",
    "    print(filename)\n"
   ]
  },
  {
   "cell_type": "code",
   "execution_count": null,
   "metadata": {
    "collapsed": false
   },
   "outputs": [],
   "source": [
    "import boto3\n",
    "import botocore\n",
    "\n",
    "s3 = boto3.resource(\n",
    "    's3',\n",
    "    aws_access_key_id=data[\"AWSAccess\"],\n",
    "    aws_secret_access_key=data[\"AWSSecret\"])\n",
    "exists= False\n",
    "for files in uploadFileNames:\n",
    "    try:\n",
    "\n",
    "            s3.Object('adsassign1_databucket', files).load()\n",
    "    except botocore.exceptions.ClientError as e:\n",
    "        if e.response['Error']['Code'] == \"404\":\n",
    "            s3.Object(\"adsassign1_databucket\", files).put(Body=open(files, 'rb'))\n",
    "            print(files)\n",
    "            \n",
    "        else:\n",
    "            raise\n",
    "    else:\n",
    "        exists = True\n",
    "\n",
    "    print(files+''+' exists')\n"
   ]
  },
  {
   "cell_type": "code",
   "execution_count": null,
   "metadata": {
    "collapsed": true
   },
   "outputs": [],
   "source": []
  }
 ],
 "metadata": {
  "anaconda-cloud": {},
  "kernelspec": {
   "display_name": "Python [default]",
   "language": "python",
   "name": "python3"
  },
  "language_info": {
   "codemirror_mode": {
    "name": "ipython",
    "version": 3
   },
   "file_extension": ".py",
   "mimetype": "text/x-python",
   "name": "python",
   "nbconvert_exporter": "python",
   "pygments_lexer": "ipython3",
   "version": "3.5.2"
  }
 },
 "nbformat": 4,
 "nbformat_minor": 2
}
